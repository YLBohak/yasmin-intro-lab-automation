{
 "cells": [
  {
   "cell_type": "code",
   "execution_count": 4,
   "metadata": {},
   "outputs": [],
   "source": [
    "import time\n",
    "import sys\n",
    "from pymata4 import pymata4"
   ]
  },
  {
   "cell_type": "code",
   "execution_count": 13,
   "metadata": {},
   "outputs": [
    {
     "name": "stdout",
     "output_type": "stream",
     "text": [
      "pymata4:  Version 1.15\n",
      "\n",
      "Copyright (c) 2020 Alan Yorinks All Rights Reserved.\n",
      "\n",
      "Opening COM4...\n",
      "\n",
      "Waiting 4 seconds(arduino_wait) for Arduino devices to reset...\n",
      "Arduino compatible device found and connected to COM4\n",
      "\n",
      "Retrieving Arduino Firmware ID...\n",
      "Arduino Firmware ID: 1.2 FirmataExpress.ino\n",
      "\n",
      "Retrieving analog map...\n",
      "Auto-discovery complete. Found 20 Digital Pins and 6 Analog Pins\n",
      "\n",
      "\n"
     ]
    }
   ],
   "source": [
    "board = pymata4.Pymata4(com_port=\"COM4\")"
   ]
  },
  {
   "cell_type": "code",
   "execution_count": 14,
   "metadata": {},
   "outputs": [],
   "source": [
    "LED_PIN = 4\n",
    "board.set_pin_mode_digital_output(LED_PIN)\n",
    "BUTTON_PIN = 2 #6 shorted to 2\n",
    "board.set_pin_mode_digital_input(BUTTON_PIN)\n",
    "\n"
   ]
  },
  {
   "cell_type": "code",
   "execution_count": 15,
   "metadata": {},
   "outputs": [
    {
     "name": "stdout",
     "output_type": "stream",
     "text": [
      "Button is on\n",
      "1721210439.1661606\n",
      "Button is on\n",
      "1721210439.1714602\n",
      "Button is on\n",
      "1721210439.1961215\n",
      "Button is on\n",
      "1721210439.1961215\n",
      "Button is on\n",
      "1721210439.1961215\n",
      "Button is on\n",
      "1721210439.1961215\n",
      "Button is on\n",
      "1721210439.1961215\n",
      "Button is on\n",
      "1721210439.1961215\n",
      "Button is on\n",
      "1721210439.1961215\n",
      "Button is on\n",
      "1721210439.1961215\n",
      "Button is on\n",
      "1721210439.1961215\n",
      "Button is on\n",
      "1721210439.1961215\n",
      "Button is on\n",
      "1721210439.1961215\n",
      "Button is on\n",
      "1721210439.1961215\n",
      "Button is on\n",
      "1721210439.1961215\n",
      "Button is on\n",
      "1721210439.1961215\n",
      "Button is on\n",
      "1721210439.1961215\n",
      "Button is on\n",
      "1721210439.1961215\n",
      "Button is on\n",
      "1721210439.1961215\n",
      "Button is on\n",
      "1721210439.2033024\n"
     ]
    }
   ],
   "source": [
    "import time\n",
    "\n",
    "while True:\n",
    "    \n",
    "    \n",
    "    \n",
    "    on_off = board.digital_read(BUTTON_PIN)\n",
    "    if on_off[0] == 1:\n",
    "        print('Button is on')\n",
    "        on_off = board.digital_write(LED_PIN,1)\n",
    "        print(time.time())"
   ]
  },
  {
   "cell_type": "code",
   "execution_count": null,
   "metadata": {},
   "outputs": [
    {
     "ename": "NameError",
     "evalue": "name 'board' is not defined",
     "output_type": "error",
     "traceback": [
      "\u001b[1;31m---------------------------------------------------------------------------\u001b[0m",
      "\u001b[1;31mNameError\u001b[0m                                 Traceback (most recent call last)",
      "Cell \u001b[1;32mIn[4], line 1\u001b[0m\n\u001b[1;32m----> 1\u001b[0m \u001b[43mboard\u001b[49m\u001b[38;5;241m.\u001b[39mshutdown()\n",
      "\u001b[1;31mNameError\u001b[0m: name 'board' is not defined"
     ]
    }
   ],
   "source": [
    "board.shutdown()"
   ]
  },
  {
   "cell_type": "code",
   "execution_count": null,
   "metadata": {},
   "outputs": [],
   "source": []
  },
  {
   "cell_type": "code",
   "execution_count": null,
   "metadata": {},
   "outputs": [],
   "source": []
  }
 ],
 "metadata": {
  "kernelspec": {
   "display_name": "Python 3",
   "language": "python",
   "name": "python3"
  },
  "language_info": {
   "codemirror_mode": {
    "name": "ipython",
    "version": 3
   },
   "file_extension": ".py",
   "mimetype": "text/x-python",
   "name": "python",
   "nbconvert_exporter": "python",
   "pygments_lexer": "ipython3",
   "version": "3.11.9"
  }
 },
 "nbformat": 4,
 "nbformat_minor": 2
}
