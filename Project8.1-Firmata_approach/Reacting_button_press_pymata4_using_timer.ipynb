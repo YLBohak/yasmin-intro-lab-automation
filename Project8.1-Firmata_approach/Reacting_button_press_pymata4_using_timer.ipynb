{
 "cells": [
  {
   "cell_type": "code",
   "execution_count": 1,
   "metadata": {},
   "outputs": [],
   "source": [
    "import PySimpleGUI as sg\n",
    "import sys\n",
    "from pymata4 import pymata4"
   ]
  },
  {
   "cell_type": "code",
   "execution_count": 2,
   "metadata": {},
   "outputs": [
    {
     "name": "stdout",
     "output_type": "stream",
     "text": [
      "pymata4:  Version 1.15\n",
      "\n",
      "Copyright (c) 2020 Alan Yorinks All Rights Reserved.\n",
      "\n",
      "Opening COM4...\n",
      "\n",
      "Waiting 4 seconds(arduino_wait) for Arduino devices to reset...\n",
      "Arduino compatible device found and connected to COM4\n",
      "\n",
      "Retrieving Arduino Firmware ID...\n",
      "Arduino Firmware ID: 1.2 FirmataExpress.ino\n",
      "\n",
      "Retrieving analog map...\n",
      "Auto-discovery complete. Found 20 Digital Pins and 6 Analog Pins\n",
      "\n",
      "\n"
     ]
    }
   ],
   "source": [
    "board = pymata4.Pymata4(com_port=\"COM4\")"
   ]
  },
  {
   "cell_type": "code",
   "execution_count": 3,
   "metadata": {},
   "outputs": [],
   "source": [
    "LED_PIN = 4\n",
    "board.set_pin_mode_digital_output(LED_PIN)\n",
    "BUTTON_PIN = 2 #6 shorted to 2\n",
    "board.set_pin_mode_digital_input(BUTTON_PIN)"
   ]
  },
  {
   "cell_type": "code",
   "execution_count": null,
   "metadata": {},
   "outputs": [],
   "source": [
    "\n",
    "def main():\n",
    "    # All the stuff inside your window.\n",
    "    layout = [[sg.Text(\"How long would you like the led to remain on? (answer in ms)\")],\n",
    "            [sg.InputText(size=(30, 10))],\n",
    "            [sg.Button('Ok')],\n",
    "            [sg.Button('Clear Output')],\n",
    "            [sg.Output(size=(30, 10))]]\n",
    "    \n",
    "    # Create the Window\n",
    "    window = sg.Window('Led timed turn-off', layout)\n",
    "\n",
    "    #Start thread that constantly reads the arduino\n",
    "    window.start_thread(lambda : read_arduino(window),'-thread-ended-')\n",
    "\n",
    "    while True:\n",
    "        #so that timer is off when not specifically turned on\n",
    "        x = 0.0\n",
    "        #define the timer used to turn off the led\n",
    "        led_timer = Timer(x, led_off)  \n",
    "\n",
    "        "
   ]
  },
  {
   "cell_type": "code",
   "execution_count": null,
   "metadata": {},
   "outputs": [],
   "source": [
    "def led_off():\n",
    "    board.digital_write(LED_PIN,0)\n",
    "    print('led was turned off')\n",
    "    led_timer.cancel()"
   ]
  },
  {
   "cell_type": "code",
   "execution_count": null,
   "metadata": {},
   "outputs": [],
   "source": [
    "def read_arduino(window):\n",
    "    while True:\n",
    "        on_off = board.digital_read(BUTTON_PIN)\n",
    "        if on_off[0] == 1:\n",
    "            print('Button is on')\n",
    "            led_timer.start()\n",
    "            on_off = board.digital_write(LED_PIN,1)\n",
    "            \n",
    "        ####read arduino\n",
    "        ###from here interupt to turn on\n"
   ]
  },
  {
   "cell_type": "code",
   "execution_count": 12,
   "metadata": {},
   "outputs": [
    {
     "ename": "",
     "evalue": "",
     "output_type": "error",
     "traceback": [
      "\u001b[1;31mThe Kernel crashed while executing code in the current cell or a previous cell. \n",
      "\u001b[1;31mPlease review the code in the cell(s) to identify a possible cause of the failure. \n",
      "\u001b[1;31mClick <a href='https://aka.ms/vscodeJupyterKernelCrash'>here</a> for more info. \n",
      "\u001b[1;31mView Jupyter <a href='command:jupyter.viewOutput'>log</a> for further details."
     ]
    }
   ],
   "source": [
    "board.shutdown()"
   ]
  },
  {
   "cell_type": "code",
   "execution_count": null,
   "metadata": {},
   "outputs": [],
   "source": []
  },
  {
   "cell_type": "code",
   "execution_count": null,
   "metadata": {},
   "outputs": [],
   "source": []
  }
 ],
 "metadata": {
  "kernelspec": {
   "display_name": "Python 3",
   "language": "python",
   "name": "python3"
  },
  "language_info": {
   "codemirror_mode": {
    "name": "ipython",
    "version": 3
   },
   "file_extension": ".py",
   "mimetype": "text/x-python",
   "name": "python",
   "nbconvert_exporter": "python",
   "pygments_lexer": "ipython3",
   "version": "3.11.9"
  }
 },
 "nbformat": 4,
 "nbformat_minor": 2
}
